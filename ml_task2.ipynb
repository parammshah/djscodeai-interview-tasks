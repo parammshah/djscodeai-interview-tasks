{
 "cells": [
  {
   "cell_type": "code",
   "execution_count": null,
   "id": "d3695858",
   "metadata": {},
   "outputs": [
    {
     "name": "stdout",
     "output_type": "stream",
     "text": [
      "Shape: (260920, 16)\n"
     ]
    },
    {
     "data": {
      "text/html": [
       "<div>\n",
       "<style scoped>\n",
       "    .dataframe tbody tr th:only-of-type {\n",
       "        vertical-align: middle;\n",
       "    }\n",
       "\n",
       "    .dataframe tbody tr th {\n",
       "        vertical-align: top;\n",
       "    }\n",
       "\n",
       "    .dataframe thead th {\n",
       "        text-align: right;\n",
       "    }\n",
       "</style>\n",
       "<table border=\"1\" class=\"dataframe\">\n",
       "  <thead>\n",
       "    <tr style=\"text-align: right;\">\n",
       "      <th></th>\n",
       "      <th>matchId</th>\n",
       "      <th>inning</th>\n",
       "      <th>over</th>\n",
       "      <th>ball</th>\n",
       "      <th>batting_team</th>\n",
       "      <th>bowling_team</th>\n",
       "      <th>batsman</th>\n",
       "      <th>non_striker</th>\n",
       "      <th>bowler</th>\n",
       "      <th>batsman_runs</th>\n",
       "      <th>extras</th>\n",
       "      <th>isWide</th>\n",
       "      <th>isNoBall</th>\n",
       "      <th>dismissal_kind</th>\n",
       "      <th>player_dismissed</th>\n",
       "      <th>date</th>\n",
       "    </tr>\n",
       "  </thead>\n",
       "  <tbody>\n",
       "    <tr>\n",
       "      <th>0</th>\n",
       "      <td>335982</td>\n",
       "      <td>1</td>\n",
       "      <td>0</td>\n",
       "      <td>1</td>\n",
       "      <td>Kolkata Knight Riders</td>\n",
       "      <td>Royal Challengers Bangalore</td>\n",
       "      <td>SC Ganguly</td>\n",
       "      <td>BB McCullum</td>\n",
       "      <td>P Kumar</td>\n",
       "      <td>0</td>\n",
       "      <td>1</td>\n",
       "      <td>NaN</td>\n",
       "      <td>NaN</td>\n",
       "      <td>NaN</td>\n",
       "      <td>NaN</td>\n",
       "      <td>2008-04-18</td>\n",
       "    </tr>\n",
       "    <tr>\n",
       "      <th>1</th>\n",
       "      <td>335982</td>\n",
       "      <td>1</td>\n",
       "      <td>0</td>\n",
       "      <td>2</td>\n",
       "      <td>Kolkata Knight Riders</td>\n",
       "      <td>Royal Challengers Bangalore</td>\n",
       "      <td>BB McCullum</td>\n",
       "      <td>SC Ganguly</td>\n",
       "      <td>P Kumar</td>\n",
       "      <td>0</td>\n",
       "      <td>0</td>\n",
       "      <td>NaN</td>\n",
       "      <td>NaN</td>\n",
       "      <td>NaN</td>\n",
       "      <td>NaN</td>\n",
       "      <td>2008-04-18</td>\n",
       "    </tr>\n",
       "    <tr>\n",
       "      <th>2</th>\n",
       "      <td>335982</td>\n",
       "      <td>1</td>\n",
       "      <td>0</td>\n",
       "      <td>3</td>\n",
       "      <td>Kolkata Knight Riders</td>\n",
       "      <td>Royal Challengers Bangalore</td>\n",
       "      <td>BB McCullum</td>\n",
       "      <td>SC Ganguly</td>\n",
       "      <td>P Kumar</td>\n",
       "      <td>0</td>\n",
       "      <td>1</td>\n",
       "      <td>1.0</td>\n",
       "      <td>NaN</td>\n",
       "      <td>NaN</td>\n",
       "      <td>NaN</td>\n",
       "      <td>2008-04-18</td>\n",
       "    </tr>\n",
       "    <tr>\n",
       "      <th>3</th>\n",
       "      <td>335982</td>\n",
       "      <td>1</td>\n",
       "      <td>0</td>\n",
       "      <td>4</td>\n",
       "      <td>Kolkata Knight Riders</td>\n",
       "      <td>Royal Challengers Bangalore</td>\n",
       "      <td>BB McCullum</td>\n",
       "      <td>SC Ganguly</td>\n",
       "      <td>P Kumar</td>\n",
       "      <td>0</td>\n",
       "      <td>0</td>\n",
       "      <td>NaN</td>\n",
       "      <td>NaN</td>\n",
       "      <td>NaN</td>\n",
       "      <td>NaN</td>\n",
       "      <td>2008-04-18</td>\n",
       "    </tr>\n",
       "    <tr>\n",
       "      <th>4</th>\n",
       "      <td>335982</td>\n",
       "      <td>1</td>\n",
       "      <td>0</td>\n",
       "      <td>5</td>\n",
       "      <td>Kolkata Knight Riders</td>\n",
       "      <td>Royal Challengers Bangalore</td>\n",
       "      <td>BB McCullum</td>\n",
       "      <td>SC Ganguly</td>\n",
       "      <td>P Kumar</td>\n",
       "      <td>0</td>\n",
       "      <td>0</td>\n",
       "      <td>NaN</td>\n",
       "      <td>NaN</td>\n",
       "      <td>NaN</td>\n",
       "      <td>NaN</td>\n",
       "      <td>2008-04-18</td>\n",
       "    </tr>\n",
       "  </tbody>\n",
       "</table>\n",
       "</div>"
      ],
      "text/plain": [
       "   matchId  inning  over  ball           batting_team  \\\n",
       "0   335982       1     0     1  Kolkata Knight Riders   \n",
       "1   335982       1     0     2  Kolkata Knight Riders   \n",
       "2   335982       1     0     3  Kolkata Knight Riders   \n",
       "3   335982       1     0     4  Kolkata Knight Riders   \n",
       "4   335982       1     0     5  Kolkata Knight Riders   \n",
       "\n",
       "                  bowling_team      batsman  non_striker   bowler  \\\n",
       "0  Royal Challengers Bangalore   SC Ganguly  BB McCullum  P Kumar   \n",
       "1  Royal Challengers Bangalore  BB McCullum   SC Ganguly  P Kumar   \n",
       "2  Royal Challengers Bangalore  BB McCullum   SC Ganguly  P Kumar   \n",
       "3  Royal Challengers Bangalore  BB McCullum   SC Ganguly  P Kumar   \n",
       "4  Royal Challengers Bangalore  BB McCullum   SC Ganguly  P Kumar   \n",
       "\n",
       "   batsman_runs  extras  isWide  isNoBall dismissal_kind player_dismissed  \\\n",
       "0             0       1     NaN       NaN            NaN              NaN   \n",
       "1             0       0     NaN       NaN            NaN              NaN   \n",
       "2             0       1     1.0       NaN            NaN              NaN   \n",
       "3             0       0     NaN       NaN            NaN              NaN   \n",
       "4             0       0     NaN       NaN            NaN              NaN   \n",
       "\n",
       "        date  \n",
       "0 2008-04-18  \n",
       "1 2008-04-18  \n",
       "2 2008-04-18  \n",
       "3 2008-04-18  \n",
       "4 2008-04-18  "
      ]
     },
     "execution_count": 14,
     "metadata": {},
     "output_type": "execute_result"
    }
   ],
   "source": [
    "# 0) SETUP & LOAD\n",
    "\n",
    "import os\n",
    "import sys\n",
    "import numpy as np\n",
    "import pandas as pd\n",
    "import matplotlib.pyplot as plt\n",
    "\n",
    "DATA_PATH = \"deliveries_updated_mens_ipl_upto_2024.xlsx\"\n",
    "\n",
    "# Helper: safe load for Excel/CSV with only needed columns\n",
    "USECOLS = [\n",
    "    'matchId','inning','over','ball','batsman','non_striker','bowler',\n",
    "    'batting_team','bowling_team','batsman_runs','extras','isWide','isNoBall',\n",
    "    'dismissal_kind','player_dismissed','date'\n",
    "]\n",
    "\n",
    "def load_deliveries(path):\n",
    "    assert os.path.exists(path), f\"File not found: {path}\"\n",
    "    if path.lower().endswith(\".csv\"):\n",
    "        df = pd.read_csv(path, usecols=USECOLS, parse_dates=['date'])\n",
    "    else:\n",
    "        # Excel: read only required cols (faster than full read)\n",
    "        df = pd.read_excel(path, usecols=USECOLS, parse_dates=['date'])\n",
    "    return df\n",
    "\n",
    "df = load_deliveries(DATA_PATH)\n",
    "print(\"Shape:\", df.shape)\n",
    "df.head()"
   ]
  },
  {
   "cell_type": "code",
   "execution_count": null,
   "id": "caf6f6ac",
   "metadata": {},
   "outputs": [
    {
     "name": "stdout",
     "output_type": "stream",
     "text": [
      "Nulls by column:\n",
      " matchId              0\n",
      "inning               0\n",
      "phase                0\n",
      "is_legal_delivery    0\n",
      "is_noball            0\n",
      "is_wide              0\n",
      "total_runs           0\n",
      "date                 0\n",
      "player_dismissed     0\n",
      "dismissal_kind       0\n",
      "dtype: int64\n"
     ]
    }
   ],
   "source": [
    "# 1) CLEAN & FEATURE ENGINEERING\n",
    "\n",
    "# Strip strings\n",
    "for c in ['batting_team','bowling_team','batsman','bowler','dismissal_kind','player_dismissed']:\n",
    "    if c in df.columns:\n",
    "        df[c] = df[c].astype(str).str.strip()\n",
    "\n",
    "# Fill numeric nulls (rare but safe)\n",
    "for c in ['batsman_runs','extras','isWide','isNoBall']:\n",
    "    if c in df.columns:\n",
    "        df[c] = df[c].fillna(0)\n",
    "\n",
    "# Total runs in the delivery\n",
    "df['total_runs'] = df['batsman_runs'] + df['extras']\n",
    "\n",
    "# Flags\n",
    "df['is_wide'] = (df['isWide'] == 1).astype(int)\n",
    "df['is_noball'] = (df['isNoBall'] == 1).astype(int)\n",
    "df['is_legal_delivery'] = (df['is_wide'] == 0) & (df['is_noball'] == 0)\n",
    "\n",
    "# Phases (overs appear 0-indexed in this dataset)\n",
    "def phase_from_over(o):\n",
    "    if o <= 5: return 'Powerplay (1-6)'\n",
    "    if 6 <= o <= 14: return 'Middle (7-15)'\n",
    "    return 'Death (16-20)'\n",
    "df['phase'] = df['over'].apply(phase_from_over)\n",
    "\n",
    "# Convenience helpers\n",
    "dismissal_exclude = {'run out','retired hurt','retired out','obstructing the field'}\n",
    "\n",
    "# Lower-case dismissal_kind safely\n",
    "dk = df['dismissal_kind'].astype(str).str.lower()\n",
    "df['is_bowler_wicket'] = (~dk.isin(dismissal_exclude)) & (dk != 'nan')\n",
    "\n",
    "print(\"Nulls by column:\\n\", df.isna().sum().sort_values(ascending=False).head(10))"
   ]
  },
  {
   "cell_type": "code",
   "execution_count": null,
   "id": "5fe8ff73",
   "metadata": {},
   "outputs": [
    {
     "data": {
      "text/html": [
       "<div>\n",
       "<style scoped>\n",
       "    .dataframe tbody tr th:only-of-type {\n",
       "        vertical-align: middle;\n",
       "    }\n",
       "\n",
       "    .dataframe tbody tr th {\n",
       "        vertical-align: top;\n",
       "    }\n",
       "\n",
       "    .dataframe thead th {\n",
       "        text-align: right;\n",
       "    }\n",
       "</style>\n",
       "<table border=\"1\" class=\"dataframe\">\n",
       "  <thead>\n",
       "    <tr style=\"text-align: right;\">\n",
       "      <th></th>\n",
       "      <th>batting_team</th>\n",
       "      <th>matches</th>\n",
       "      <th>run_rate</th>\n",
       "      <th>boundary_pct</th>\n",
       "    </tr>\n",
       "  </thead>\n",
       "  <tbody>\n",
       "    <tr>\n",
       "      <th>17</th>\n",
       "      <td>Royal Challengers Bengaluru</td>\n",
       "      <td>15</td>\n",
       "      <td>9.715342</td>\n",
       "      <td>0.260628</td>\n",
       "    </tr>\n",
       "    <tr>\n",
       "      <th>4</th>\n",
       "      <td>Gujarat Lions</td>\n",
       "      <td>30</td>\n",
       "      <td>8.595941</td>\n",
       "      <td>0.224170</td>\n",
       "    </tr>\n",
       "    <tr>\n",
       "      <th>2</th>\n",
       "      <td>Delhi Capitals</td>\n",
       "      <td>91</td>\n",
       "      <td>8.570384</td>\n",
       "      <td>0.229738</td>\n",
       "    </tr>\n",
       "    <tr>\n",
       "      <th>12</th>\n",
       "      <td>Punjab Kings</td>\n",
       "      <td>56</td>\n",
       "      <td>8.430267</td>\n",
       "      <td>0.217112</td>\n",
       "    </tr>\n",
       "    <tr>\n",
       "      <th>14</th>\n",
       "      <td>Rising Pune Supergiant</td>\n",
       "      <td>16</td>\n",
       "      <td>8.177083</td>\n",
       "      <td>0.189236</td>\n",
       "    </tr>\n",
       "    <tr>\n",
       "      <th>18</th>\n",
       "      <td>Sunrisers Hyderabad</td>\n",
       "      <td>182</td>\n",
       "      <td>8.130329</td>\n",
       "      <td>0.198386</td>\n",
       "    </tr>\n",
       "    <tr>\n",
       "      <th>5</th>\n",
       "      <td>Gujarat Titans</td>\n",
       "      <td>45</td>\n",
       "      <td>8.049140</td>\n",
       "      <td>0.199631</td>\n",
       "    </tr>\n",
       "    <tr>\n",
       "      <th>7</th>\n",
       "      <td>Kochi Tuskers Kerala</td>\n",
       "      <td>14</td>\n",
       "      <td>8.015717</td>\n",
       "      <td>0.202358</td>\n",
       "    </tr>\n",
       "    <tr>\n",
       "      <th>8</th>\n",
       "      <td>Kolkata Knight Riders</td>\n",
       "      <td>251</td>\n",
       "      <td>7.881496</td>\n",
       "      <td>0.198610</td>\n",
       "    </tr>\n",
       "    <tr>\n",
       "      <th>9</th>\n",
       "      <td>Lucknow Super Giants</td>\n",
       "      <td>44</td>\n",
       "      <td>7.853996</td>\n",
       "      <td>0.188798</td>\n",
       "    </tr>\n",
       "    <tr>\n",
       "      <th>6</th>\n",
       "      <td>Kings XI Punjab</td>\n",
       "      <td>190</td>\n",
       "      <td>7.792651</td>\n",
       "      <td>0.196121</td>\n",
       "    </tr>\n",
       "    <tr>\n",
       "      <th>10</th>\n",
       "      <td>Mumbai Indians</td>\n",
       "      <td>261</td>\n",
       "      <td>7.751829</td>\n",
       "      <td>0.191325</td>\n",
       "    </tr>\n",
       "  </tbody>\n",
       "</table>\n",
       "</div>"
      ],
      "text/plain": [
       "                   batting_team  matches  run_rate  boundary_pct\n",
       "17  Royal Challengers Bengaluru       15  9.715342      0.260628\n",
       "4                 Gujarat Lions       30  8.595941      0.224170\n",
       "2                Delhi Capitals       91  8.570384      0.229738\n",
       "12                 Punjab Kings       56  8.430267      0.217112\n",
       "14       Rising Pune Supergiant       16  8.177083      0.189236\n",
       "18          Sunrisers Hyderabad      182  8.130329      0.198386\n",
       "5                Gujarat Titans       45  8.049140      0.199631\n",
       "7          Kochi Tuskers Kerala       14  8.015717      0.202358\n",
       "8         Kolkata Knight Riders      251  7.881496      0.198610\n",
       "9          Lucknow Super Giants       44  7.853996      0.188798\n",
       "6               Kings XI Punjab      190  7.792651      0.196121\n",
       "10               Mumbai Indians      261  7.751829      0.191325"
      ]
     },
     "execution_count": 4,
     "metadata": {},
     "output_type": "execute_result"
    }
   ],
   "source": [
    "# 2) INSIGHT A: POWERPLAY\n",
    "\n",
    "pp = df[(df['inning'].isin([1,2])) & (df['phase'] == 'Powerplay (1-6)')].copy()\n",
    "pp['is_boundary'] = pp['batsman_runs'].isin([4,6])\n",
    "\n",
    "team_pp = pp.groupby('batting_team').agg(\n",
    "    runs=('total_runs','sum'),\n",
    "    balls=('is_legal_delivery','sum'),\n",
    "    boundaries=('is_boundary','sum'),\n",
    "    matches=('matchId','nunique')\n",
    ").reset_index()\n",
    "\n",
    "# Filter for decent sample size\n",
    "team_pp = team_pp[team_pp['matches'] >= 10].copy()\n",
    "team_pp['overs'] = team_pp['balls'] / 6\n",
    "team_pp['run_rate'] = team_pp['runs'] / team_pp['overs']\n",
    "team_pp['boundary_pct'] = team_pp['boundaries'] / team_pp['balls']\n",
    "\n",
    "team_pp = team_pp.sort_values('run_rate', ascending=False)\n",
    "team_pp[['batting_team','matches','run_rate','boundary_pct']].head(12)"
   ]
  },
  {
   "cell_type": "code",
   "execution_count": null,
   "id": "a5065e5c",
   "metadata": {},
   "outputs": [
    {
     "data": {
      "image/png": "[encoded data removed]",
      "text/plain": [
       "<Figure size 800x500 with 1 Axes>"
      ]
     },
     "metadata": {},
     "output_type": "display_data"
    }
   ],
   "source": [
    "top10_pp = team_pp.head(10)\n",
    "plt.figure(figsize=(8,5))\n",
    "plt.bar(top10_pp['batting_team'], top10_pp['run_rate'])\n",
    "plt.title(\"Top 10 Teams – Powerplay Run Rate (Overs 1–6)\")\n",
    "plt.xlabel(\"Team\")\n",
    "plt.ylabel(\"Run Rate\")\n",
    "plt.xticks(rotation=45, ha='right')\n",
    "plt.tight_layout()\n",
    "plt.show()"
   ]
  },
  {
   "cell_type": "code",
   "execution_count": null,
   "id": "0d9a4bd8",
   "metadata": {},
   "outputs": [
    {
     "data": {
      "text/html": [
       "<div>\n",
       "<style scoped>\n",
       "    .dataframe tbody tr th:only-of-type {\n",
       "        vertical-align: middle;\n",
       "    }\n",
       "\n",
       "    .dataframe tbody tr th {\n",
       "        vertical-align: top;\n",
       "    }\n",
       "\n",
       "    .dataframe thead th {\n",
       "        text-align: right;\n",
       "    }\n",
       "</style>\n",
       "<table border=\"1\" class=\"dataframe\">\n",
       "  <thead>\n",
       "    <tr style=\"text-align: right;\">\n",
       "      <th></th>\n",
       "      <th>bowler</th>\n",
       "      <th>wickets</th>\n",
       "      <th>economy</th>\n",
       "      <th>overs</th>\n",
       "      <th>matches</th>\n",
       "    </tr>\n",
       "  </thead>\n",
       "  <tbody>\n",
       "    <tr>\n",
       "      <th>102</th>\n",
       "      <td>DJ Bravo</td>\n",
       "      <td>115</td>\n",
       "      <td>9.501441</td>\n",
       "      <td>231.333333</td>\n",
       "      <td>129</td>\n",
       "    </tr>\n",
       "    <tr>\n",
       "      <th>365</th>\n",
       "      <td>SL Malinga</td>\n",
       "      <td>108</td>\n",
       "      <td>8.175000</td>\n",
       "      <td>186.666667</td>\n",
       "      <td>114</td>\n",
       "    </tr>\n",
       "    <tr>\n",
       "      <th>62</th>\n",
       "      <td>B Kumar</td>\n",
       "      <td>100</td>\n",
       "      <td>9.407080</td>\n",
       "      <td>226.000000</td>\n",
       "      <td>144</td>\n",
       "    </tr>\n",
       "    <tr>\n",
       "      <th>162</th>\n",
       "      <td>JJ Bumrah</td>\n",
       "      <td>91</td>\n",
       "      <td>8.488391</td>\n",
       "      <td>208.166667</td>\n",
       "      <td>121</td>\n",
       "    </tr>\n",
       "    <tr>\n",
       "      <th>373</th>\n",
       "      <td>SP Narine</td>\n",
       "      <td>73</td>\n",
       "      <td>7.548387</td>\n",
       "      <td>170.500000</td>\n",
       "      <td>128</td>\n",
       "    </tr>\n",
       "    <tr>\n",
       "      <th>134</th>\n",
       "      <td>HV Patel</td>\n",
       "      <td>73</td>\n",
       "      <td>10.174603</td>\n",
       "      <td>126.000000</td>\n",
       "      <td>78</td>\n",
       "    </tr>\n",
       "    <tr>\n",
       "      <th>254</th>\n",
       "      <td>Mohammed Shami</td>\n",
       "      <td>66</td>\n",
       "      <td>10.617470</td>\n",
       "      <td>110.666667</td>\n",
       "      <td>82</td>\n",
       "    </tr>\n",
       "    <tr>\n",
       "      <th>244</th>\n",
       "      <td>MM Sharma</td>\n",
       "      <td>63</td>\n",
       "      <td>10.179144</td>\n",
       "      <td>124.666667</td>\n",
       "      <td>82</td>\n",
       "    </tr>\n",
       "    <tr>\n",
       "      <th>179</th>\n",
       "      <td>K Rabada</td>\n",
       "      <td>62</td>\n",
       "      <td>9.919192</td>\n",
       "      <td>99.000000</td>\n",
       "      <td>70</td>\n",
       "    </tr>\n",
       "    <tr>\n",
       "      <th>437</th>\n",
       "      <td>YS Chahal</td>\n",
       "      <td>59</td>\n",
       "      <td>9.449511</td>\n",
       "      <td>102.333333</td>\n",
       "      <td>94</td>\n",
       "    </tr>\n",
       "    <tr>\n",
       "      <th>81</th>\n",
       "      <td>CH Morris</td>\n",
       "      <td>58</td>\n",
       "      <td>8.893354</td>\n",
       "      <td>107.833333</td>\n",
       "      <td>66</td>\n",
       "    </tr>\n",
       "    <tr>\n",
       "      <th>386</th>\n",
       "      <td>Sandeep Sharma</td>\n",
       "      <td>55</td>\n",
       "      <td>10.173913</td>\n",
       "      <td>107.333333</td>\n",
       "      <td>85</td>\n",
       "    </tr>\n",
       "  </tbody>\n",
       "</table>\n",
       "</div>"
      ],
      "text/plain": [
       "             bowler  wickets    economy       overs  matches\n",
       "102        DJ Bravo      115   9.501441  231.333333      129\n",
       "365      SL Malinga      108   8.175000  186.666667      114\n",
       "62          B Kumar      100   9.407080  226.000000      144\n",
       "162       JJ Bumrah       91   8.488391  208.166667      121\n",
       "373       SP Narine       73   7.548387  170.500000      128\n",
       "134        HV Patel       73  10.174603  126.000000       78\n",
       "254  Mohammed Shami       66  10.617470  110.666667       82\n",
       "244       MM Sharma       63  10.179144  124.666667       82\n",
       "179        K Rabada       62   9.919192   99.000000       70\n",
       "437       YS Chahal       59   9.449511  102.333333       94\n",
       "81        CH Morris       58   8.893354  107.833333       66\n",
       "386  Sandeep Sharma       55  10.173913  107.333333       85"
      ]
     },
     "execution_count": 6,
     "metadata": {},
     "output_type": "execute_result"
    }
   ],
   "source": [
    "# 3) INSIGHT B: DEATH OVERS BOWLING\n",
    "\n",
    "death = df[(df['inning'].isin([1,2])) & (df['phase'] == 'Death (16-20)')].copy()\n",
    "\n",
    "bow_death = death.groupby('bowler').agg(\n",
    "    runs_conceded=('total_runs','sum'),\n",
    "    legal_balls=('is_legal_delivery','sum'),\n",
    "    wickets=('is_bowler_wicket','sum'),\n",
    "    matches=('matchId','nunique')\n",
    ").reset_index()\n",
    "\n",
    "# Qualification: at least 20 overs at death\n",
    "bow_death = bow_death[bow_death['legal_balls'] >= 120].copy()\n",
    "bow_death['overs'] = bow_death['legal_balls'] / 6\n",
    "bow_death['economy'] = bow_death['runs_conceded'] / bow_death['overs']\n",
    "\n",
    "bow_death = bow_death.sort_values(['wickets','economy'], ascending=[False, True])\n",
    "bow_death[['bowler','wickets','economy','overs','matches']].head(12)"
   ]
  },
  {
   "cell_type": "code",
   "execution_count": null,
   "id": "1fcd897a",
   "metadata": {},
   "outputs": [
    {
     "data": {
      "image/png": "[encoded data removed]",
      "text/plain": [
       "<Figure size 800x500 with 1 Axes>"
      ]
     },
     "metadata": {},
     "output_type": "display_data"
    }
   ],
   "source": [
    "top10_bowl = bow_death.head(10)\n",
    "plt.figure(figsize=(8,5))\n",
    "plt.bar(top10_bowl['bowler'], top10_bowl['wickets'])\n",
    "plt.title(\"Top 10 Death Overs Wicket-Takers (Overs 16–20)\")\n",
    "plt.xlabel(\"Bowler\")\n",
    "plt.ylabel(\"Wickets at Death (Qualified)\")\n",
    "plt.xticks(rotation=45, ha='right')\n",
    "plt.tight_layout()\n",
    "plt.show()"
   ]
  },
  {
   "cell_type": "code",
   "execution_count": null,
   "id": "5f187ee6",
   "metadata": {},
   "outputs": [
    {
     "data": {
      "text/html": [
       "<div>\n",
       "<style scoped>\n",
       "    .dataframe tbody tr th:only-of-type {\n",
       "        vertical-align: middle;\n",
       "    }\n",
       "\n",
       "    .dataframe tbody tr th {\n",
       "        vertical-align: top;\n",
       "    }\n",
       "\n",
       "    .dataframe thead th {\n",
       "        text-align: right;\n",
       "    }\n",
       "</style>\n",
       "<table border=\"1\" class=\"dataframe\">\n",
       "  <thead>\n",
       "    <tr style=\"text-align: right;\">\n",
       "      <th></th>\n",
       "      <th>batsman</th>\n",
       "      <th>bowler</th>\n",
       "      <th>balls</th>\n",
       "      <th>runs</th>\n",
       "      <th>outs</th>\n",
       "      <th>strike_rate</th>\n",
       "      <th>dismissals_per_100</th>\n",
       "    </tr>\n",
       "  </thead>\n",
       "  <tbody>\n",
       "  </tbody>\n",
       "</table>\n",
       "</div>"
      ],
      "text/plain": [
       "Empty DataFrame\n",
       "Columns: [batsman, bowler, balls, runs, outs, strike_rate, dismissals_per_100]\n",
       "Index: []"
      ]
     },
     "execution_count": 8,
     "metadata": {},
     "output_type": "execute_result"
    }
   ],
   "source": [
    "# 4) INSIGHT C: MATCHUPS\n",
    "\n",
    "# Count a dismissal when the striker is dismissed & it's credited to the bowler.\n",
    "mb = df[df['is_legal_delivery']].copy()\n",
    "\n",
    "pair = mb.groupby(['batsman','bowler']).agg(\n",
    "    balls=('ball','count'),\n",
    "    runs=('batsman_runs','sum'),\n",
    "    outs=('player_dismissed', lambda s: (s == s.name[0]).sum())\n",
    ").reset_index()\n",
    "\n",
    "pair = pair[pair['balls'] >= 30].copy()\n",
    "pair['strike_rate'] = 100 * pair['runs'] / pair['balls']\n",
    "pair['dismissals_per_100'] = 100 * pair['outs'] / pair['balls']\n",
    "\n",
    "# \"Tough\" matchups: low SR and at least 2 dismissals\n",
    "tough = pair[pair['outs'] >= 2].sort_values(['strike_rate','outs'], ascending=[True, False]).head(20)\n",
    "tough"
   ]
  },
  {
   "cell_type": "code",
   "execution_count": 11,
   "id": "53c6a1b6",
   "metadata": {},
   "outputs": [
    {
     "name": "stdout",
     "output_type": "stream",
     "text": [
      "Defaulting to user installation because normal site-packages is not writeable\n",
      "Collecting plotly\n",
      "  Downloading plotly-6.3.0-py3-none-any.whl.metadata (8.5 kB)\n",
      "Collecting narwhals>=1.15.1 (from plotly)\n",
      "  Downloading narwhals-2.1.2-py3-none-any.whl.metadata (11 kB)\n",
      "Requirement already satisfied: packaging in /Users/paramshah/Library/Python/3.9/lib/python/site-packages (from plotly) (25.0)\n",
      "Downloading plotly-6.3.0-py3-none-any.whl (9.8 MB)\n",
      "\u001b[2K   \u001b[90m━━━━━━━━━━━━━━━━━━━━━━━━━━━━━━━━━━━━━━━━\u001b[0m \u001b[32m9.8/9.8 MB\u001b[0m \u001b[31m16.4 MB/s\u001b[0m  \u001b[33m0:00:00\u001b[0mm0:00:01\u001b[0m00:01\u001b[0m\n",
      "\u001b[?25hDownloading narwhals-2.1.2-py3-none-any.whl (392 kB)\n",
      "Installing collected packages: narwhals, plotly\n",
      "\u001b[2K   \u001b[90m━━━━━━━━━━━━━━━━━━━━━━━━━━━━━━━━━━━━━━━━\u001b[0m \u001b[32m2/2\u001b[0m [plotly]2m1/2\u001b[0m [plotly]\n",
      "\u001b[1A\u001b[2KSuccessfully installed narwhals-2.1.2 plotly-6.3.0\n"
     ]
    }
   ],
   "source": [
    "!pip install plotly"
   ]
  },
  {
   "cell_type": "code",
   "execution_count": null,
   "id": "56432816",
   "metadata": {},
   "outputs": [
    {
     "data": {
      "application/vnd.plotly.v1+json": {
       "config": {
        "plotlyServerURL": "https://plot.ly"
       },
       "data": [
        {
         "customdata": {
          "bdata": "AAAAAAAALkBpP0IEI67QPwAAAAAAAD5AG+2rFpixzD8AAAAAAMBWQAREbLoNaM0/AAAAAAAATEDzNv2IUcrLPwAAAAAAADBAjuM4juM4yD8AAAAAAMBmQB4D3li3ZMk/AAAAAACARkBkx7X5hY3JPwAAAAAAACxAsSBrR9rmyT8AAAAAAGBvQK0Kii8LbMk/AAAAAAAARkCQ9ApMiCrIPwAAAAAAwGdAnIvK24AayT8AAAAAAFBwQAE85mBTfcg/AAAAAACAa0CcTI/fY5/JPwAAAAAAoG1AvzKICnhPyD8AAAAAACBkQMee702RCsg/",
          "dtype": "f8",
          "shape": "15, 2"
         },
         "hovertemplate": "batting_team=%{x}<br>run_rate=%{y}<br>matches=%{customdata[0]}<br>boundary_pct=%{customdata[1]}<extra></extra>",
         "legendgroup": "",
         "marker": {
          "color": "#636efa",
          "pattern": {
           "shape": ""
          }
         },
         "name": "",
         "orientation": "v",
         "showlegend": false,
         "textposition": "auto",
         "type": "bar",
         "x": [
          "Royal Challengers Bengaluru",
          "Gujarat Lions",
          "Delhi Capitals",
          "Punjab Kings",
          "Rising Pune Supergiant",
          "Sunrisers Hyderabad",
          "Gujarat Titans",
          "Kochi Tuskers Kerala",
          "Kolkata Knight Riders",
          "Lucknow Super Giants",
          "Kings XI Punjab",
          "Mumbai Indians",
          "Rajasthan Royals",
          "Chennai Super Kings",
          "Delhi Daredevils"
         ],
         "xaxis": "x",
         "y": {
          "bdata": "15ghTUFuI0CrBWYsHzEhQHeLMlwJJCFAt1/i9kvcIECrqqqqqlogQLD/HHe6QiBA8PVv4igZIEC9KBsSDAggQMZRJ/Cmhh9AVaR0/H1qH0DLurKurCsfQELxIpXfAR9AGCZHgsDeHkA9LXKyF84eQHG0LTsgVh5A",
          "dtype": "f8"
         },
         "yaxis": "y"
        }
       ],
       "layout": {
        "barmode": "relative",
        "legend": {
         "tracegroupgap": 0
        },
        "template": {
         "data": {
          "bar": [
           {
            "error_x": {
             "color": "#2a3f5f"
            },
            "error_y": {
             "color": "#2a3f5f"
            },
            "marker": {
             "line": {
              "color": "#E5ECF6",
              "width": 0.5
             },
             "pattern": {
              "fillmode": "overlay",
              "size": 10,
              "solidity": 0.2
             }
            },
            "type": "bar"
           }
          ],
          "barpolar": [
           {
            "marker": {
             "line": {
              "color": "#E5ECF6",
              "width": 0.5
             },
             "pattern": {
              "fillmode": "overlay",
              "size": 10,
              "solidity": 0.2
             }
            },
            "type": "barpolar"
           }
          ],
          "carpet": [
           {
            "aaxis": {
             "endlinecolor": "#2a3f5f",
             "gridcolor": "white",
             "linecolor": "white",
             "minorgridcolor": "white",
             "startlinecolor": "#2a3f5f"
            },
            "baxis": {
             "endlinecolor": "#2a3f5f",
             "gridcolor": "white",
             "linecolor": "white",
             "minorgridcolor": "white",
             "startlinecolor": "#2a3f5f"
            },
            "type": "carpet"
           }
          ],
          "choropleth": [
           {
            "colorbar": {
             "outlinewidth": 0,
             "ticks": ""
            },
            "type": "choropleth"
           }
          ],
          "contour": [
           {
            "colorbar": {
             "outlinewidth": 0,
             "ticks": ""
            },
            "colorscale": [
             [
              0,
              "#0d0887"
             ],
             [
              0.1111111111111111,
              "#46039f"
             ],
             [
              0.2222222222222222,
              "#7201a8"
             ],
             [
              0.3333333333333333,
              "#9c179e"
             ],
             [
              0.4444444444444444,
              "#bd3786"
             ],
             [
              0.5555555555555556,
              "#d8576b"
             ],
             [
              0.6666666666666666,
              "#ed7953"
             ],
             [
              0.7777777777777778,
              "#fb9f3a"
             ],
             [
              0.8888888888888888,
              "#fdca26"
             ],
             [
              1,
              "#f0f921"
             ]
            ],
            "type": "contour"
           }
          ],
          "contourcarpet": [
           {
            "colorbar": {
             "outlinewidth": 0,
             "ticks": ""
            },
            "type": "contourcarpet"
           }
          ],
          "heatmap": [
           {
            "colorbar": {
             "outlinewidth": 0,
             "ticks": ""
            },
            "colorscale": [
             [
              0,
              "#0d0887"
             ],
             [
              0.1111111111111111,
              "#46039f"
             ],
             [
              0.2222222222222222,
              "#7201a8"
             ],
             [
              0.3333333333333333,
              "#9c179e"
             ],
             [
              0.4444444444444444,
              "#bd3786"
             ],
             [
              0.5555555555555556,
              "#d8576b"
             ],
             [
              0.6666666666666666,
              "#ed7953"
             ],
             [
              0.7777777777777778,
              "#fb9f3a"
             ],
             [
              0.8888888888888888,
              "#fdca26"
             ],
             [
              1,
              "#f0f921"
             ]
            ],
            "type": "heatmap"
           }
          ],
          "histogram": [
           {
            "marker": {
             "pattern": {
              "fillmode": "overlay",
              "size": 10,
              "solidity": 0.2
             }
            },
            "type": "histogram"
           }
          ],
          "histogram2d": [
           {
            "colorbar": {
             "outlinewidth": 0,
             "ticks": ""
            },
            "colorscale": [
             [
              0,
              "#0d0887"
             ],
             [
              0.1111111111111111,
              "#46039f"
             ],
             [
              0.2222222222222222,
              "#7201a8"
             ],
             [
              0.3333333333333333,
              "#9c179e"
             ],
             [
              0.4444444444444444,
              "#bd3786"
             ],
             [
              0.5555555555555556,
              "#d8576b"
             ],
             [
              0.6666666666666666,
              "#ed7953"
             ],
             [
              0.7777777777777778,
              "#fb9f3a"
             ],
             [
              0.8888888888888888,
              "#fdca26"
             ],
             [
              1,
              "#f0f921"
             ]
            ],
            "type": "histogram2d"
           }
          ],
          "histogram2dcontour": [
           {
            "colorbar": {
             "outlinewidth": 0,
             "ticks": ""
            },
            "colorscale": [
             [
              0,
              "#0d0887"
             ],
             [
              0.1111111111111111,
              "#46039f"
             ],
             [
              0.2222222222222222,
              "#7201a8"
             ],
             [
              0.3333333333333333,
              "#9c179e"
             ],
             [
              0.4444444444444444,
              "#bd3786"
             ],
             [
              0.5555555555555556,
              "#d8576b"
             ],
             [
              0.6666666666666666,
              "#ed7953"
             ],
             [
              0.7777777777777778,
              "#fb9f3a"
             ],
             [
              0.8888888888888888,
              "#fdca26"
             ],
             [
              1,
              "#f0f921"
             ]
            ],
            "type": "histogram2dcontour"
           }
          ],
          "mesh3d": [
           {
            "colorbar": {
             "outlinewidth": 0,
             "ticks": ""
            },
            "type": "mesh3d"
           }
          ],
          "parcoords": [
           {
            "line": {
             "colorbar": {
              "outlinewidth": 0,
              "ticks": ""
             }
            },
            "type": "parcoords"
           }
          ],
          "pie": [
           {
            "automargin": true,
            "type": "pie"
           }
          ],
          "scatter": [
           {
            "fillpattern": {
             "fillmode": "overlay",
             "size": 10,
             "solidity": 0.2
            },
            "type": "scatter"
           }
          ],
          "scatter3d": [
           {
            "line": {
             "colorbar": {
              "outlinewidth": 0,
              "ticks": ""
             }
            },
            "marker": {
             "colorbar": {
              "outlinewidth": 0,
              "ticks": ""
             }
            },
            "type": "scatter3d"
           }
          ],
          "scattercarpet": [
           {
            "marker": {
             "colorbar": {
              "outlinewidth": 0,
              "ticks": ""
             }
            },
            "type": "scattercarpet"
           }
          ],
          "scattergeo": [
           {
            "marker": {
             "colorbar": {
              "outlinewidth": 0,
              "ticks": ""
             }
            },
            "type": "scattergeo"
           }
          ],
          "scattergl": [
           {
            "marker": {
             "colorbar": {
              "outlinewidth": 0,
              "ticks": ""
             }
            },
            "type": "scattergl"
           }
          ],
          "scattermap": [
           {
            "marker": {
             "colorbar": {
              "outlinewidth": 0,
              "ticks": ""
             }
            },
            "type": "scattermap"
           }
          ],
          "scattermapbox": [
           {
            "marker": {
             "colorbar": {
              "outlinewidth": 0,
              "ticks": ""
             }
            },
            "type": "scattermapbox"
           }
          ],
          "scatterpolar": [
           {
            "marker": {
             "colorbar": {
              "outlinewidth": 0,
              "ticks": ""
             }
            },
            "type": "scatterpolar"
           }
          ],
          "scatterpolargl": [
           {
            "marker": {
             "colorbar": {
              "outlinewidth": 0,
              "ticks": ""
             }
            },
            "type": "scatterpolargl"
           }
          ],
          "scatterternary": [
           {
            "marker": {
             "colorbar": {
              "outlinewidth": 0,
              "ticks": ""
             }
            },
            "type": "scatterternary"
           }
          ],
          "surface": [
           {
            "colorbar": {
             "outlinewidth": 0,
             "ticks": ""
            },
            "colorscale": [
             [
              0,
              "#0d0887"
             ],
             [
              0.1111111111111111,
              "#46039f"
             ],
             [
              0.2222222222222222,
              "#7201a8"
             ],
             [
              0.3333333333333333,
              "#9c179e"
             ],
             [
              0.4444444444444444,
              "#bd3786"
             ],
             [
              0.5555555555555556,
              "#d8576b"
             ],
             [
              0.6666666666666666,
              "#ed7953"
             ],
             [
              0.7777777777777778,
              "#fb9f3a"
             ],
             [
              0.8888888888888888,
              "#fdca26"
             ],
             [
              1,
              "#f0f921"
             ]
            ],
            "type": "surface"
           }
          ],
          "table": [
           {
            "cells": {
             "fill": {
              "color": "#EBF0F8"
             },
             "line": {
              "color": "white"
             }
            },
            "header": {
             "fill": {
              "color": "#C8D4E3"
             },
             "line": {
              "color": "white"
             }
            },
            "type": "table"
           }
          ]
         },
         "layout": {
          "annotationdefaults": {
           "arrowcolor": "#2a3f5f",
           "arrowhead": 0,
           "arrowwidth": 1
          },
          "autotypenumbers": "strict",
          "coloraxis": {
           "colorbar": {
            "outlinewidth": 0,
            "ticks": ""
           }
          },
          "colorscale": {
           "diverging": [
            [
             0,
             "#8e0152"
            ],
            [
             0.1,
             "#c51b7d"
            ],
            [
             0.2,
             "#de77ae"
            ],
            [
             0.3,
             "#f1b6da"
            ],
            [
             0.4,
             "#fde0ef"
            ],
            [
             0.5,
             "#f7f7f7"
            ],
            [
             0.6,
             "#e6f5d0"
            ],
            [
             0.7,
             "#b8e186"
            ],
            [
             0.8,
             "#7fbc41"
            ],
            [
             0.9,
             "#4d9221"
            ],
            [
             1,
             "#276419"
            ]
           ],
           "sequential": [
            [
             0,
             "#0d0887"
            ],
            [
             0.1111111111111111,
             "#46039f"
            ],
            [
             0.2222222222222222,
             "#7201a8"
            ],
            [
             0.3333333333333333,
             "#9c179e"
            ],
            [
             0.4444444444444444,
             "#bd3786"
            ],
            [
             0.5555555555555556,
             "#d8576b"
            ],
            [
             0.6666666666666666,
             "#ed7953"
            ],
            [
             0.7777777777777778,
             "#fb9f3a"
            ],
            [
             0.8888888888888888,
             "#fdca26"
            ],
            [
             1,
             "#f0f921"
            ]
           ],
           "sequentialminus": [
            [
             0,
             "#0d0887"
            ],
            [
             0.1111111111111111,
             "#46039f"
            ],
            [
             0.2222222222222222,
             "#7201a8"
            ],
            [
             0.3333333333333333,
             "#9c179e"
            ],
            [
             0.4444444444444444,
             "#bd3786"
            ],
            [
             0.5555555555555556,
             "#d8576b"
            ],
            [
             0.6666666666666666,
             "#ed7953"
            ],
            [
             0.7777777777777778,
             "#fb9f3a"
            ],
            [
             0.8888888888888888,
             "#fdca26"
            ],
            [
             1,
             "#f0f921"
            ]
           ]
          },
          "colorway": [
           "#636efa",
           "#EF553B",
           "#00cc96",
           "#ab63fa",
           "#FFA15A",
           "#19d3f3",
           "#FF6692",
           "#B6E880",
           "#FF97FF",
           "#FECB52"
          ],
          "font": {
           "color": "#2a3f5f"
          },
          "geo": {
           "bgcolor": "white",
           "lakecolor": "white",
           "landcolor": "#E5ECF6",
           "showlakes": true,
           "showland": true,
           "subunitcolor": "white"
          },
          "hoverlabel": {
           "align": "left"
          },
          "hovermode": "closest",
          "mapbox": {
           "style": "light"
          },
          "paper_bgcolor": "white",
          "plot_bgcolor": "#E5ECF6",
          "polar": {
           "angularaxis": {
            "gridcolor": "white",
            "linecolor": "white",
            "ticks": ""
           },
           "bgcolor": "#E5ECF6",
           "radialaxis": {
            "gridcolor": "white",
            "linecolor": "white",
            "ticks": ""
           }
          },
          "scene": {
           "xaxis": {
            "backgroundcolor": "#E5ECF6",
            "gridcolor": "white",
            "gridwidth": 2,
            "linecolor": "white",
            "showbackground": true,
            "ticks": "",
            "zerolinecolor": "white"
           },
           "yaxis": {
            "backgroundcolor": "#E5ECF6",
            "gridcolor": "white",
            "gridwidth": 2,
            "linecolor": "white",
            "showbackground": true,
            "ticks": "",
            "zerolinecolor": "white"
           },
           "zaxis": {
            "backgroundcolor": "#E5ECF6",
            "gridcolor": "white",
            "gridwidth": 2,
            "linecolor": "white",
            "showbackground": true,
            "ticks": "",
            "zerolinecolor": "white"
           }
          },
          "shapedefaults": {
           "line": {
            "color": "#2a3f5f"
           }
          },
          "ternary": {
           "aaxis": {
            "gridcolor": "white",
            "linecolor": "white",
            "ticks": ""
           },
           "baxis": {
            "gridcolor": "white",
            "linecolor": "white",
            "ticks": ""
           },
           "bgcolor": "#E5ECF6",
           "caxis": {
            "gridcolor": "white",
            "linecolor": "white",
            "ticks": ""
           }
          },
          "title": {
           "x": 0.05
          },
          "xaxis": {
           "automargin": true,
           "gridcolor": "white",
           "linecolor": "white",
           "ticks": "",
           "title": {
            "standoff": 15
           },
           "zerolinecolor": "white",
           "zerolinewidth": 2
          },
          "yaxis": {
           "automargin": true,
           "gridcolor": "white",
           "linecolor": "white",
           "ticks": "",
           "title": {
            "standoff": 15
           },
           "zerolinecolor": "white",
           "zerolinewidth": 2
          }
         }
        },
        "title": {
         "text": "Powerplay Run Rate (Top 15)"
        },
        "xaxis": {
         "anchor": "y",
         "domain": [
          0,
          1
         ],
         "title": {
          "text": "Team"
         }
        },
        "yaxis": {
         "anchor": "x",
         "domain": [
          0,
          1
         ],
         "title": {
          "text": "Run Rate"
         }
        }
       }
      }
     },
     "metadata": {},
     "output_type": "display_data"
    }
   ],
   "source": [
    "import plotly.express as px\n",
    "\n",
    "# Interactive: Powerplay run rate\n",
    "fig = px.bar(team_pp.head(15), x='batting_team', y='run_rate',\n",
    "             title='Powerplay Run Rate (Top 15)',\n",
    "             hover_data=['matches','boundary_pct'])\n",
    "fig.update_layout(xaxis_title=\"Team\", yaxis_title=\"Run Rate\")\n",
    "fig.show()"
   ]
  },
  {
   "cell_type": "code",
   "execution_count": 13,
   "id": "30aa386a",
   "metadata": {},
   "outputs": [
    {
     "data": {
      "application/vnd.plotly.v1+json": {
       "config": {
        "plotlyServerURL": "https://plot.ly"
       },
       "data": [
        {
         "hovertemplate": "<b>%{hovertext}</b><br><br>economy=%{x}<br>wickets=%{y}<br>overs=%{marker.size}<extra></extra>",
         "hovertext": [
          "DJ Bravo",
          "SL Malinga",
          "B Kumar",
          "JJ Bumrah",
          "SP Narine",
          "HV Patel",
          "Mohammed Shami",
          "MM Sharma",
          "K Rabada",
          "YS Chahal",
          "CH Morris",
          "Sandeep Sharma",
          "A Nehra",
          "UT Yadav",
          "DW Steyn",
          "AD Russell",
          "JD Unadkat",
          "R Vinay Kumar",
          "RP Singh",
          "SN Thakur",
          "TA Boult",
          "T Natarajan",
          "A Mishra",
          "SR Watson",
          "Rashid Khan",
          "PP Chawla",
          "Arshdeep Singh",
          "Z Khan",
          "Mohammed Siraj",
          "R Ashwin",
          "P Kumar",
          "SM Curran",
          "Mustafizur Rahman",
          "Avesh Khan",
          "L Balaji",
          "MJ McClenaghan",
          "JP Faulkner",
          "KK Ahmed",
          "M Morkel",
          "JA Morkel",
          "S Kaul",
          "RA Jadeja",
          "MG Johnson",
          "JO Holder",
          "IK Pathan",
          "A Nortje",
          "HH Pandya",
          "Harbhajan Singh",
          "KA Pollard",
          "AB Dinda",
          "Kuldeep Yadav",
          "Imran Tahir",
          "RJ Harris",
          "AJ Tye",
          "JH Kallis",
          "M Prasidh Krishna",
          "DE Bollinger",
          "M Pathirana",
          "MA Starc",
          "MM Patel",
          "M Muralitharan",
          "NM Coulter-Nile",
          "DS Kulkarni",
          "PJ Cummins",
          "TU Deshpande",
          "AR Patel",
          "JC Archer",
          "SK Trivedi",
          "PP Ojha",
          "I Sharma",
          "R Bhatia",
          "Ravi Bishnoi",
          "SK Warne",
          "TG Southee",
          "A Kumble",
          "KK Cooper",
          "Azhar Mahmood",
          "NLTC Perera",
          "WD Parnell",
          "A Singh",
          "LH Ferguson",
          "CR Woakes",
          "S Aravind",
          "JR Hazlewood",
          "VR Aaron",
          "CJ Jordan",
          "MP Stoinis",
          "RD Chahar",
          "BA Stokes",
          "P Awana",
          "Mukesh Kumar",
          "KH Pandya",
          "SW Tait",
          "DP Nannes",
          "Shakib Al Hasan",
          "L Ngidi",
          "Basil Thampi",
          "CV Varun",
          "DL Chahar",
          "AS Joseph",
          "Naveen-ul-Haq",
          "Yash Dayal",
          "DT Christian",
          "MR Marsh",
          "Shivam Mavi",
          "RP Meredith",
          "Yash Thakur",
          "Mohsin Khan",
          "Harmeet Singh",
          "B Lee",
          "SB Jakati",
          "NA Saini",
          "AD Mathews",
          "CH Gayle",
          "Anureet Singh",
          "R Sharma",
          "NT Ellis",
          "C Sakariya",
          "S Sreesanth",
          "DL Vettori",
          "M Ashwin",
          "AB Agarkar",
          "MS Gony",
          "Kartik Tyagi",
          "M Kartik",
          "SK Raina",
          "PJ Sangwan"
         ],
         "legendgroup": "",
         "marker": {
          "color": "#636efa",
          "size": {
           "bdata": "q6qqqqrqbEBVVVVVVVVnQAAAAAAAQGxAVVVVVVUFakAAAAAAAFBlQAAAAAAAgF9Aq6qqqqqqW0CrqqqqqipfQAAAAAAAwFhAVVVVVVWVWUBVVVVVVfVaQFVVVVVV1VpAAAAAAAAAVkBVVVVVVbVeQKuqqqqqilpAAAAAAADgVUAAAAAAAOBZQKuqqqqqaltAVVVVVVX1VUBVVVVVVfVaQKuqqqqqKlpAAAAAAAAAV0CrqqqqqspVQKuqqqqqKlhAAAAAAACgVUCrqqqqqopSQFVVVVVVFVRAVVVVVVVVWUCrqqqqqqpYQAAAAAAAAFlAVVVVVVW1WECrqqqqqupPQKuqqqqqCldAAAAAAAAAVUBVVVVVVfVUQAAAAAAAwE5AAAAAAACAU0AAAAAAAIBNQAAAAAAAQFBAAAAAAABAS0AAAAAAAGBRQFVVVVVVlVVAAAAAAABASUCrqqqqqipJQAAAAAAAYFRAVVVVVVWVUUBVVVVVVVVGQKuqqqqq6kZAVVVVVVUVTECrqqqqqipRQFVVVVVV1UZAq6qqqqrqSkAAAAAAAABHQAAAAAAAAEhAAAAAAAAATkCrqqqqqmpQQAAAAAAAgENAq6qqqqrqRUCrqqqqqmpGQAAAAAAAgElAVVVVVVUVR0AAAAAAAMBEQKuqqqqq6kxAVVVVVVWVT0AAAAAAAIBFQFVVVVVVVU1AVVVVVVXVTkCrqqqqqqpJQFVVVVVVFUhAVVVVVVV1UkBVVVVVVVVDQFVVVVVVFUJAVVVVVVUVQkAAAAAAAABNQFVVVVVV1TtAVVVVVVUVRkAAAAAAAEBBQKuqqqqqKkNAq6qqqqpqQ0BVVVVVVdU6QFVVVVVVlUhAVVVVVVVVOkCrqqqqqqo4QAAAAAAAgDtAAAAAAACAQUBVVVVVVVVHQFVVVVVV1TlAAAAAAACAO0BVVVVVVRVBQAAAAAAAgDxAAAAAAACAPEBVVVVVVdU9QKuqqqqqqjlAVVVVVVVVQUCrqqqqqipAQAAAAAAAADZAVVVVVVXVPECrqqqqqupFQKuqqqqqqjlAAAAAAACANUAAAAAAAIA6QKuqqqqqKjtAVVVVVVWVQUCrqqqqqio0QFVVVVVVVT9Aq6qqqqqqNUCrqqqqqqo7QKuqqqqqKjdAAAAAAACANUBVVVVVVRVKQFVVVVVV1TVAVVVVVVXVPEBVVVVVVdU5QFVVVVVV1TlAq6qqqqqqNUCrqqqqqqo5QAAAAAAAADRAq6qqqqoqNUCrqqqqqqo2QAAAAAAAgDtAAAAAAAAANUBVVVVVVVU+QAAAAAAAADRAVVVVVVVVNECrqqqqqqo5QAAAAAAAgDVAq6qqqqqqNkA=",
           "dtype": "f8"
          },
          "sizemode": "area",
          "sizeref": 0.5783333333333334,
          "symbol": "circle"
         },
         "mode": "markers",
         "name": "",
         "orientation": "v",
         "showlegend": false,
         "type": "scatter",
         "x": {
          "bdata": "sl1T3bwAI0CamZmZmVkgQMwGTb5s0CJAK1H0WA76IEAyxhhjjDEeQJZlWZZlWSRAIpcVAyU8JUBc5xXQuFskQIFav1Kg1iNAVPS5WybmIkAG/hKwZckhQIYsZCELWSRAjC666KILIkDQC55ZvlwlQOgWk3o73CBA7QJiU2nIJUCnN73pTW8mQCyPCE21XyVADw8PDw8PI0BQ0Vk7xl0lQOswylQ81yVA9aY3velNJEDJrD3GIREjQMcfDnj84SNAFfqTjEU1IEBbdUS9g7chQBxGnhtGniNAvYbyGsqrIkDWDabIZ50kQFK4HoXrUSBAkzuWZOdoJUBjlN7NNM8mQF4tbsL8riJAJUmSJEkSI0C2RA+uJuwkQJyPwfkYnCNAB2mQBmmQJEDmsRVBw0klQN3IjdzIjSJAoCyBTfvJIkDZ3nVAN+YhQC+bIUrnsiFAVoZvRIFJI0Bw8jf5m/wjQGNL8G3+CiNAVR4deM83JEDSA5WzW/gmQKuYtIpJqyBAdYafzvDTJUBjaLqD/VYmQNWek+mrhCFADeU1lNdQIkBOb3rTm94iQKuqqqqqSiNAERERERGRJEAfyC4sRkIlQGIndmIndh5AdoHtlKFWIUBmqQadB9ghQEFBQUFBQSVA/nmMyEt2IEBp6vzaQy4jQD2XCUlnnCRAEtKLQxQGJUBrypqypqwnQF100UUX3SFA8lk3mCKfI0Cwd0wN7B0iQBSqQNdtBCNAsYowRP5YJkCoEZZ7GmEhQLDj1/Hr+CFA8VR4KjwVIkAjLPc0wnIlQKZMgl2FLx9AYPVygSo0IkB605ve9KYjQI5A0VaD5yZAi9kqcTFbIUD7Iqp19kUkQDxNgR3ybyVADUSlI3sGJkCKfNYNpsgjQHBY+4a1byRAMzMzMzMzJ0CpgzqogzonQHkViVeReClAOKx9w9o3IEAyOB+D8zEkQHAfwX0E9yVAgvsI7iO4J0D113MVy8YfQB5TA3vH1CBA7cRO7MQOIkDDdrM8iUwjQC+66KKLLiRAEWm9gG1OJ0C+m6AN/m0hQFZ+QpyVnyJAAAAAAAAAJEB5K/scUhMkQHybv8KsRiVAGy5+CIOcJUB8rZ4dAjcmQNqo72zUdyZAXuiFXuiFJkCLgRLeaOomQNJqEqL4iyRAJO6IO+KOIEBg4zp41dMhQC/4qzghJSNAKBmLapgdJEBsrbXWWmshQB6q26G6HSJA5EZu5EZuJkA1sHdMDewhQAAAAAAAACZAmUwmk8lkJkCWlpaWlpYmQDisfcPaNyBAhmEYhmEYIkAXaIEWaIEkQM3MzMzMTCVA36e4ZAjWJUD8hDgrPyEgQHfEHXFH3CFAlpaWlpaWI0A=",
          "dtype": "f8"
         },
         "xaxis": "x",
         "y": {
          "bdata": "c2xkW0lJQj8+Ozo3NjQyMDAvLS0tKyoqJycmJSUkJCIhISEgICAfHx4dHR0cGxsaGhoZGRkYGBgXFxcXFhYWFhYVFRQUFBMTEhIREREREBAQEA8PDw8PDg4ODg0NDQ0NDQwMDAwMDAwMDAwLCgoKCgkJCQgICAgHBwcHBwYGBg==",
          "dtype": "i1"
         },
         "yaxis": "y"
        }
       ],
       "layout": {
        "legend": {
         "itemsizing": "constant",
         "tracegroupgap": 0
        },
        "template": {
         "data": {
          "bar": [
           {
            "error_x": {
             "color": "#2a3f5f"
            },
            "error_y": {
             "color": "#2a3f5f"
            },
            "marker": {
             "line": {
              "color": "#E5ECF6",
              "width": 0.5
             },
             "pattern": {
              "fillmode": "overlay",
              "size": 10,
              "solidity": 0.2
             }
            },
            "type": "bar"
           }
          ],
          "barpolar": [
           {
            "marker": {
             "line": {
              "color": "#E5ECF6",
              "width": 0.5
             },
             "pattern": {
              "fillmode": "overlay",
              "size": 10,
              "solidity": 0.2
             }
            },
            "type": "barpolar"
           }
          ],
          "carpet": [
           {
            "aaxis": {
             "endlinecolor": "#2a3f5f",
             "gridcolor": "white",
             "linecolor": "white",
             "minorgridcolor": "white",
             "startlinecolor": "#2a3f5f"
            },
            "baxis": {
             "endlinecolor": "#2a3f5f",
             "gridcolor": "white",
             "linecolor": "white",
             "minorgridcolor": "white",
             "startlinecolor": "#2a3f5f"
            },
            "type": "carpet"
           }
          ],
          "choropleth": [
           {
            "colorbar": {
             "outlinewidth": 0,
             "ticks": ""
            },
            "type": "choropleth"
           }
          ],
          "contour": [
           {
            "colorbar": {
             "outlinewidth": 0,
             "ticks": ""
            },
            "colorscale": [
             [
              0,
              "#0d0887"
             ],
             [
              0.1111111111111111,
              "#46039f"
             ],
             [
              0.2222222222222222,
              "#7201a8"
             ],
             [
              0.3333333333333333,
              "#9c179e"
             ],
             [
              0.4444444444444444,
              "#bd3786"
             ],
             [
              0.5555555555555556,
              "#d8576b"
             ],
             [
              0.6666666666666666,
              "#ed7953"
             ],
             [
              0.7777777777777778,
              "#fb9f3a"
             ],
             [
              0.8888888888888888,
              "#fdca26"
             ],
             [
              1,
              "#f0f921"
             ]
            ],
            "type": "contour"
           }
          ],
          "contourcarpet": [
           {
            "colorbar": {
             "outlinewidth": 0,
             "ticks": ""
            },
            "type": "contourcarpet"
           }
          ],
          "heatmap": [
           {
            "colorbar": {
             "outlinewidth": 0,
             "ticks": ""
            },
            "colorscale": [
             [
              0,
              "#0d0887"
             ],
             [
              0.1111111111111111,
              "#46039f"
             ],
             [
              0.2222222222222222,
              "#7201a8"
             ],
             [
              0.3333333333333333,
              "#9c179e"
             ],
             [
              0.4444444444444444,
              "#bd3786"
             ],
             [
              0.5555555555555556,
              "#d8576b"
             ],
             [
              0.6666666666666666,
              "#ed7953"
             ],
             [
              0.7777777777777778,
              "#fb9f3a"
             ],
             [
              0.8888888888888888,
              "#fdca26"
             ],
             [
              1,
              "#f0f921"
             ]
            ],
            "type": "heatmap"
           }
          ],
          "histogram": [
           {
            "marker": {
             "pattern": {
              "fillmode": "overlay",
              "size": 10,
              "solidity": 0.2
             }
            },
            "type": "histogram"
           }
          ],
          "histogram2d": [
           {
            "colorbar": {
             "outlinewidth": 0,
             "ticks": ""
            },
            "colorscale": [
             [
              0,
              "#0d0887"
             ],
             [
              0.1111111111111111,
              "#46039f"
             ],
             [
              0.2222222222222222,
              "#7201a8"
             ],
             [
              0.3333333333333333,
              "#9c179e"
             ],
             [
              0.4444444444444444,
              "#bd3786"
             ],
             [
              0.5555555555555556,
              "#d8576b"
             ],
             [
              0.6666666666666666,
              "#ed7953"
             ],
             [
              0.7777777777777778,
              "#fb9f3a"
             ],
             [
              0.8888888888888888,
              "#fdca26"
             ],
             [
              1,
              "#f0f921"
             ]
            ],
            "type": "histogram2d"
           }
          ],
          "histogram2dcontour": [
           {
            "colorbar": {
             "outlinewidth": 0,
             "ticks": ""
            },
            "colorscale": [
             [
              0,
              "#0d0887"
             ],
             [
              0.1111111111111111,
              "#46039f"
             ],
             [
              0.2222222222222222,
              "#7201a8"
             ],
             [
              0.3333333333333333,
              "#9c179e"
             ],
             [
              0.4444444444444444,
              "#bd3786"
             ],
             [
              0.5555555555555556,
              "#d8576b"
             ],
             [
              0.6666666666666666,
              "#ed7953"
             ],
             [
              0.7777777777777778,
              "#fb9f3a"
             ],
             [
              0.8888888888888888,
              "#fdca26"
             ],
             [
              1,
              "#f0f921"
             ]
            ],
            "type": "histogram2dcontour"
           }
          ],
          "mesh3d": [
           {
            "colorbar": {
             "outlinewidth": 0,
             "ticks": ""
            },
            "type": "mesh3d"
           }
          ],
          "parcoords": [
           {
            "line": {
             "colorbar": {
              "outlinewidth": 0,
              "ticks": ""
             }
            },
            "type": "parcoords"
           }
          ],
          "pie": [
           {
            "automargin": true,
            "type": "pie"
           }
          ],
          "scatter": [
           {
            "fillpattern": {
             "fillmode": "overlay",
             "size": 10,
             "solidity": 0.2
            },
            "type": "scatter"
           }
          ],
          "scatter3d": [
           {
            "line": {
             "colorbar": {
              "outlinewidth": 0,
              "ticks": ""
             }
            },
            "marker": {
             "colorbar": {
              "outlinewidth": 0,
              "ticks": ""
             }
            },
            "type": "scatter3d"
           }
          ],
          "scattercarpet": [
           {
            "marker": {
             "colorbar": {
              "outlinewidth": 0,
              "ticks": ""
             }
            },
            "type": "scattercarpet"
           }
          ],
          "scattergeo": [
           {
            "marker": {
             "colorbar": {
              "outlinewidth": 0,
              "ticks": ""
             }
            },
            "type": "scattergeo"
           }
          ],
          "scattergl": [
           {
            "marker": {
             "colorbar": {
              "outlinewidth": 0,
              "ticks": ""
             }
            },
            "type": "scattergl"
           }
          ],
          "scattermap": [
           {
            "marker": {
             "colorbar": {
              "outlinewidth": 0,
              "ticks": ""
             }
            },
            "type": "scattermap"
           }
          ],
          "scattermapbox": [
           {
            "marker": {
             "colorbar": {
              "outlinewidth": 0,
              "ticks": ""
             }
            },
            "type": "scattermapbox"
           }
          ],
          "scatterpolar": [
           {
            "marker": {
             "colorbar": {
              "outlinewidth": 0,
              "ticks": ""
             }
            },
            "type": "scatterpolar"
           }
          ],
          "scatterpolargl": [
           {
            "marker": {
             "colorbar": {
              "outlinewidth": 0,
              "ticks": ""
             }
            },
            "type": "scatterpolargl"
           }
          ],
          "scatterternary": [
           {
            "marker": {
             "colorbar": {
              "outlinewidth": 0,
              "ticks": ""
             }
            },
            "type": "scatterternary"
           }
          ],
          "surface": [
           {
            "colorbar": {
             "outlinewidth": 0,
             "ticks": ""
            },
            "colorscale": [
             [
              0,
              "#0d0887"
             ],
             [
              0.1111111111111111,
              "#46039f"
             ],
             [
              0.2222222222222222,
              "#7201a8"
             ],
             [
              0.3333333333333333,
              "#9c179e"
             ],
             [
              0.4444444444444444,
              "#bd3786"
             ],
             [
              0.5555555555555556,
              "#d8576b"
             ],
             [
              0.6666666666666666,
              "#ed7953"
             ],
             [
              0.7777777777777778,
              "#fb9f3a"
             ],
             [
              0.8888888888888888,
              "#fdca26"
             ],
             [
              1,
              "#f0f921"
             ]
            ],
            "type": "surface"
           }
          ],
          "table": [
           {
            "cells": {
             "fill": {
              "color": "#EBF0F8"
             },
             "line": {
              "color": "white"
             }
            },
            "header": {
             "fill": {
              "color": "#C8D4E3"
             },
             "line": {
              "color": "white"
             }
            },
            "type": "table"
           }
          ]
         },
         "layout": {
          "annotationdefaults": {
           "arrowcolor": "#2a3f5f",
           "arrowhead": 0,
           "arrowwidth": 1
          },
          "autotypenumbers": "strict",
          "coloraxis": {
           "colorbar": {
            "outlinewidth": 0,
            "ticks": ""
           }
          },
          "colorscale": {
           "diverging": [
            [
             0,
             "#8e0152"
            ],
            [
             0.1,
             "#c51b7d"
            ],
            [
             0.2,
             "#de77ae"
            ],
            [
             0.3,
             "#f1b6da"
            ],
            [
             0.4,
             "#fde0ef"
            ],
            [
             0.5,
             "#f7f7f7"
            ],
            [
             0.6,
             "#e6f5d0"
            ],
            [
             0.7,
             "#b8e186"
            ],
            [
             0.8,
             "#7fbc41"
            ],
            [
             0.9,
             "#4d9221"
            ],
            [
             1,
             "#276419"
            ]
           ],
           "sequential": [
            [
             0,
             "#0d0887"
            ],
            [
             0.1111111111111111,
             "#46039f"
            ],
            [
             0.2222222222222222,
             "#7201a8"
            ],
            [
             0.3333333333333333,
             "#9c179e"
            ],
            [
             0.4444444444444444,
             "#bd3786"
            ],
            [
             0.5555555555555556,
             "#d8576b"
            ],
            [
             0.6666666666666666,
             "#ed7953"
            ],
            [
             0.7777777777777778,
             "#fb9f3a"
            ],
            [
             0.8888888888888888,
             "#fdca26"
            ],
            [
             1,
             "#f0f921"
            ]
           ],
           "sequentialminus": [
            [
             0,
             "#0d0887"
            ],
            [
             0.1111111111111111,
             "#46039f"
            ],
            [
             0.2222222222222222,
             "#7201a8"
            ],
            [
             0.3333333333333333,
             "#9c179e"
            ],
            [
             0.4444444444444444,
             "#bd3786"
            ],
            [
             0.5555555555555556,
             "#d8576b"
            ],
            [
             0.6666666666666666,
             "#ed7953"
            ],
            [
             0.7777777777777778,
             "#fb9f3a"
            ],
            [
             0.8888888888888888,
             "#fdca26"
            ],
            [
             1,
             "#f0f921"
            ]
           ]
          },
          "colorway": [
           "#636efa",
           "#EF553B",
           "#00cc96",
           "#ab63fa",
           "#FFA15A",
           "#19d3f3",
           "#FF6692",
           "#B6E880",
           "#FF97FF",
           "#FECB52"
          ],
          "font": {
           "color": "#2a3f5f"
          },
          "geo": {
           "bgcolor": "white",
           "lakecolor": "white",
           "landcolor": "#E5ECF6",
           "showlakes": true,
           "showland": true,
           "subunitcolor": "white"
          },
          "hoverlabel": {
           "align": "left"
          },
          "hovermode": "closest",
          "mapbox": {
           "style": "light"
          },
          "paper_bgcolor": "white",
          "plot_bgcolor": "#E5ECF6",
          "polar": {
           "angularaxis": {
            "gridcolor": "white",
            "linecolor": "white",
            "ticks": ""
           },
           "bgcolor": "#E5ECF6",
           "radialaxis": {
            "gridcolor": "white",
            "linecolor": "white",
            "ticks": ""
           }
          },
          "scene": {
           "xaxis": {
            "backgroundcolor": "#E5ECF6",
            "gridcolor": "white",
            "gridwidth": 2,
            "linecolor": "white",
            "showbackground": true,
            "ticks": "",
            "zerolinecolor": "white"
           },
           "yaxis": {
            "backgroundcolor": "#E5ECF6",
            "gridcolor": "white",
            "gridwidth": 2,
            "linecolor": "white",
            "showbackground": true,
            "ticks": "",
            "zerolinecolor": "white"
           },
           "zaxis": {
            "backgroundcolor": "#E5ECF6",
            "gridcolor": "white",
            "gridwidth": 2,
            "linecolor": "white",
            "showbackground": true,
            "ticks": "",
            "zerolinecolor": "white"
           }
          },
          "shapedefaults": {
           "line": {
            "color": "#2a3f5f"
           }
          },
          "ternary": {
           "aaxis": {
            "gridcolor": "white",
            "linecolor": "white",
            "ticks": ""
           },
           "baxis": {
            "gridcolor": "white",
            "linecolor": "white",
            "ticks": ""
           },
           "bgcolor": "#E5ECF6",
           "caxis": {
            "gridcolor": "white",
            "linecolor": "white",
            "ticks": ""
           }
          },
          "title": {
           "x": 0.05
          },
          "xaxis": {
           "automargin": true,
           "gridcolor": "white",
           "linecolor": "white",
           "ticks": "",
           "title": {
            "standoff": 15
           },
           "zerolinecolor": "white",
           "zerolinewidth": 2
          },
          "yaxis": {
           "automargin": true,
           "gridcolor": "white",
           "linecolor": "white",
           "ticks": "",
           "title": {
            "standoff": 15
           },
           "zerolinecolor": "white",
           "zerolinewidth": 2
          }
         }
        },
        "title": {
         "text": "Death Overs: Wickets vs Economy (bubble=size of overs)"
        },
        "xaxis": {
         "anchor": "y",
         "domain": [
          0,
          1
         ],
         "title": {
          "text": "Economy"
         }
        },
        "yaxis": {
         "anchor": "x",
         "domain": [
          0,
          1
         ],
         "title": {
          "text": "Wickets"
         }
        }
       }
      }
     },
     "metadata": {},
     "output_type": "display_data"
    }
   ],
   "source": [
    "# Interactive: Death overs bowling\n",
    "fig = px.scatter(bow_death, x='economy', y='wickets', hover_name='bowler',\n",
    "                 size='overs', title='Death Overs: Wickets vs Economy (bubble=size of overs)')\n",
    "fig.update_layout(xaxis_title=\"Economy\", yaxis_title=\"Wickets\")\n",
    "fig.show()"
   ]
  }
 ],
 "metadata": {
  "kernelspec": {
   "display_name": "Python 3",
   "language": "python",
   "name": "python3"
  },
  "language_info": {
   "codemirror_mode": {
    "name": "ipython",
    "version": 3
   },
   "file_extension": ".py",
   "mimetype": "text/x-python",
   "name": "python",
   "nbconvert_exporter": "python",
   "pygments_lexer": "ipython3",
   "version": "3.9.6"
  }
 },
 "nbformat": 4,
 "nbformat_minor": 5
}
